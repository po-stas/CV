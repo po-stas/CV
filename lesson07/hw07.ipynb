{
 "cells": [
  {
   "cell_type": "markdown",
   "metadata": {},
   "source": [
    "### Lesson07. Обработка видео"
   ]
  },
  {
   "cell_type": "code",
   "execution_count": 1,
   "metadata": {},
   "outputs": [],
   "source": [
    "import os\n",
    "import re\n",
    "import random\n",
    "import numpy as np\n",
    "import tensorflow as tf\n",
    "import skvideo.io\n",
    "import matplotlib.pyplot as plt"
   ]
  },
  {
   "cell_type": "code",
   "execution_count": 2,
   "metadata": {},
   "outputs": [],
   "source": [
    "physical_devices = tf.config.list_physical_devices('GPU') \n",
    "tf.config.experimental.set_memory_growth(physical_devices[0], True)"
   ]
  },
  {
   "cell_type": "code",
   "execution_count": 3,
   "metadata": {},
   "outputs": [],
   "source": [
    "# Загрузка датасета KTH\n",
    "# !wget http://www.nada.kth.se/cvap/actions/walking.zip\n",
    "# !wget http://www.nada.kth.se/cvap/actions/jogging.zip\n",
    "# !wget http://www.nada.kth.se/cvap/actions/running.zip\n",
    "# !wget http://www.nada.kth.se/cvap/actions/boxing.zip\n",
    "# !wget http://www.nada.kth.se/cvap/actions/handwaving.zip\n",
    "# !wget http://www.nada.kth.se/cvap/actions/handclapping.zip"
   ]
  },
  {
   "cell_type": "code",
   "execution_count": 4,
   "metadata": {},
   "outputs": [],
   "source": [
    "# !mkdir dataset\n",
    "# !unzip walking.zip -d dataset\n",
    "# !unzip jogging.zip -d dataset\n",
    "# !unzip running.zip -d dataset\n",
    "# !unzip boxing.zip -d dataset\n",
    "# !unzip handwaving.zip -d dataset\n",
    "# !unzip handclapping.zip -d dataset"
   ]
  },
  {
   "cell_type": "code",
   "execution_count": 5,
   "metadata": {},
   "outputs": [],
   "source": [
    "# Готовим датасет\n",
    "classes = ['walking', 'jogging', 'running', 'boxing', 'handwaving', 'handclapping']\n",
    "\n",
    "dataset = []\n",
    "data_root = 'dataset/'\n",
    "for filename in os.listdir(data_root):\n",
    "    if 'avi' not in os.path.splitext(filename)[1]:\n",
    "        continue\n",
    "    class_name = filename.split('_')[1]\n",
    "    dataset.append((os.path.join(data_root, filename), classes.index(class_name)))"
   ]
  },
  {
   "cell_type": "code",
   "execution_count": 6,
   "metadata": {},
   "outputs": [
    {
     "data": {
      "text/plain": [
       "[('dataset/person14_jogging_d4_uncomp.avi', 1),\n",
       " ('dataset/person17_handwaving_d3_uncomp.avi', 4),\n",
       " ('dataset/person10_walking_d4_uncomp.avi', 0),\n",
       " ('dataset/person10_boxing_d3_uncomp.avi', 3),\n",
       " ('dataset/person02_walking_d3_uncomp.avi', 0),\n",
       " ('dataset/person11_running_d1_uncomp.avi', 2),\n",
       " ('dataset/person07_running_d2_uncomp.avi', 2),\n",
       " ('dataset/person23_boxing_d3_uncomp.avi', 3),\n",
       " ('dataset/person05_handwaving_d4_uncomp.avi', 4),\n",
       " ('dataset/person17_jogging_d2_uncomp.avi', 1)]"
      ]
     },
     "execution_count": 6,
     "metadata": {},
     "output_type": "execute_result"
    }
   ],
   "source": [
    "dataset[:10]"
   ]
  },
  {
   "cell_type": "code",
   "execution_count": 7,
   "metadata": {},
   "outputs": [
    {
     "data": {
      "text/plain": [
       "599"
      ]
     },
     "execution_count": 7,
     "metadata": {},
     "output_type": "execute_result"
    }
   ],
   "source": [
    "len(dataset)"
   ]
  },
  {
   "cell_type": "code",
   "execution_count": 8,
   "metadata": {},
   "outputs": [],
   "source": [
    "random.shuffle(dataset)\n",
    "# dataset = dataset[:200] # Погоняем на полном датасете"
   ]
  },
  {
   "cell_type": "code",
   "execution_count": 9,
   "metadata": {},
   "outputs": [],
   "source": [
    "def read_data(data=dataset):\n",
    "    for item in data:\n",
    "        videodata = skvideo.io.vread(item[0]).astype(np.float32)/255.\n",
    "        motion = np.mean(videodata[1:, ...] - videodata[:-1, ...], axis=3, keepdims=True)\n",
    "        # Чтобы можно было составить их в батч...\n",
    "        if motion.shape[0] > 512:\n",
    "            motion = motion[:512, :, :, :]\n",
    "        else:\n",
    "            motion = np.pad(motion, ((512-motion.shape[0], 0), (0, 0), (0, 0), (0, 0)))\n",
    "        label = item[1]\n",
    "        yield motion, tf.cast(label, tf.uint8)"
   ]
  },
  {
   "cell_type": "code",
   "execution_count": 10,
   "metadata": {},
   "outputs": [],
   "source": [
    "tf_dataset = tf.data.Dataset.from_generator(read_data,\n",
    "                                            output_shapes=((None, 120, 160, 1), (None)),\n",
    "                                            output_types=(tf.float32, tf.uint8))"
   ]
  },
  {
   "cell_type": "code",
   "execution_count": 11,
   "metadata": {},
   "outputs": [
    {
     "data": {
      "text/plain": [
       "<FlatMapDataset shapes: ((None, 120, 160, 1), <unknown>), types: (tf.float32, tf.uint8)>"
      ]
     },
     "execution_count": 11,
     "metadata": {},
     "output_type": "execute_result"
    }
   ],
   "source": [
    "tf_dataset"
   ]
  },
  {
   "cell_type": "code",
   "execution_count": 12,
   "metadata": {},
   "outputs": [],
   "source": [
    "# Train - val (20 примеров для валидации)\n",
    "tf_dataset.shuffle(len(dataset))\n",
    "train_dataset = tf_dataset.skip(20)\n",
    "val_dataset = tf_dataset.take(20)"
   ]
  },
  {
   "cell_type": "code",
   "execution_count": 13,
   "metadata": {},
   "outputs": [],
   "source": [
    "# Оптимизация и батчи\n",
    "train_dataset = train_dataset.cache()\n",
    "train_dataset = train_dataset.shuffle(len(dataset)-20)\n",
    "train_dataset = train_dataset.batch(6)\n",
    "train_dataset = train_dataset.prefetch(tf.data.experimental.AUTOTUNE)"
   ]
  },
  {
   "cell_type": "code",
   "execution_count": 14,
   "metadata": {},
   "outputs": [],
   "source": [
    "val_dataset = val_dataset.cache()\n",
    "val_dataset = val_dataset.batch(5)\n",
    "val_dataset = val_dataset.prefetch(tf.data.experimental.AUTOTUNE)"
   ]
  },
  {
   "cell_type": "code",
   "execution_count": 15,
   "metadata": {},
   "outputs": [],
   "source": [
    "# Модел\n",
    "model = tf.keras.Sequential([\n",
    "    tf.keras.layers.Conv3D(32, (5, 5, 5), (1, 2, 2), padding='same'),\n",
    "    tf.keras.layers.BatchNormalization(),\n",
    "    tf.keras.layers.Activation('relu'),\n",
    "    tf.keras.layers.MaxPool3D((1, 2, 2), padding='same'),\n",
    "    tf.keras.layers.Conv3D(64, (5, 5, 5), (1, 2, 2), padding='same'),\n",
    "    tf.keras.layers.BatchNormalization(),\n",
    "    tf.keras.layers.Activation('relu'),\n",
    "    tf.keras.layers.MaxPool3D((1, 2, 2), padding='same'),\n",
    "    tf.keras.layers.Conv3D(64, (3, 3, 3), (1, 2, 2), padding='same'),\n",
    "    tf.keras.layers.BatchNormalization(),\n",
    "    tf.keras.layers.Activation('relu'),\n",
    "    tf.keras.layers.MaxPool3D((1, 2, 2), padding='same'),\n",
    "    tf.keras.layers.Conv3D(64, (3, 3, 3), (1, 1, 1), padding='same'),\n",
    "    tf.keras.layers.BatchNormalization(),\n",
    "    tf.keras.layers.Activation('relu'),\n",
    "    tf.keras.layers.GlobalAveragePooling3D(),\n",
    "    tf.keras.layers.Dense(64, activation='relu'),\n",
    "    tf.keras.layers.Dropout(0.2),\n",
    "    tf.keras.layers.Dense(6, activation=None)\n",
    "])"
   ]
  },
  {
   "cell_type": "code",
   "execution_count": 16,
   "metadata": {},
   "outputs": [],
   "source": [
    "model.compile(loss=tf.keras.losses.SparseCategoricalCrossentropy(from_logits=True),\n",
    "             optimizer=tf.keras.optimizers.Adam(0.001))"
   ]
  },
  {
   "cell_type": "code",
   "execution_count": 17,
   "metadata": {},
   "outputs": [
    {
     "name": "stdout",
     "output_type": "stream",
     "text": [
      "Epoch 1/10\n",
      "97/97 [==============================] - 609s 2s/step - loss: 1.4545 - val_loss: 2.0197\n",
      "Epoch 2/10\n",
      "97/97 [==============================] - 139s 1s/step - loss: 0.9249 - val_loss: 2.7666\n",
      "Epoch 3/10\n",
      "97/97 [==============================] - 139s 1s/step - loss: 0.6935 - val_loss: 2.7546\n",
      "Epoch 4/10\n",
      "97/97 [==============================] - 139s 1s/step - loss: 0.5360 - val_loss: 2.6823\n",
      "Epoch 5/10\n",
      "97/97 [==============================] - 139s 1s/step - loss: 0.5304 - val_loss: 1.0777\n",
      "Epoch 6/10\n",
      "97/97 [==============================] - 140s 1s/step - loss: 0.4631 - val_loss: 0.7516\n",
      "Epoch 7/10\n",
      "97/97 [==============================] - 140s 1s/step - loss: 0.4147 - val_loss: 0.3879\n",
      "Epoch 8/10\n",
      "97/97 [==============================] - 140s 1s/step - loss: 0.4346 - val_loss: 0.8275\n",
      "Epoch 9/10\n",
      "97/97 [==============================] - 140s 1s/step - loss: 0.3644 - val_loss: 0.9540\n",
      "Epoch 10/10\n",
      "97/97 [==============================] - 140s 1s/step - loss: 0.3383 - val_loss: 2.7755\n",
      "CPU times: user 21min 1s, sys: 3min 33s, total: 24min 34s\n",
      "Wall time: 31min 4s\n"
     ]
    },
    {
     "data": {
      "image/png": "[encoded data removed]",
      "text/plain": [
       "<Figure size 720x720 with 1 Axes>"
      ]
     },
     "metadata": {
      "needs_background": "light"
     },
     "output_type": "display_data"
    }
   ],
   "source": [
    "%%time\n",
    "hist = model.fit(train_dataset, epochs=10, validation_data=val_dataset)\n",
    "\n",
    "plt.figure(figsize=(10, 10))\n",
    "plt.plot(range(len(hist.history['loss'])), hist.history['loss'])\n",
    "plt.plot(range(len(hist.history['loss'])), hist.history['val_loss'])\n",
    "plt.draw()"
   ]
  },
  {
   "cell_type": "code",
   "execution_count": 18,
   "metadata": {},
   "outputs": [],
   "source": [
    "# Что-то чудовищно неравномерно на валидации..."
   ]
  },
  {
   "cell_type": "code",
   "execution_count": 19,
   "metadata": {},
   "outputs": [],
   "source": [
    "# Попробуем посмотреть, чему оно научилось.."
   ]
  },
  {
   "cell_type": "code",
   "execution_count": 20,
   "metadata": {},
   "outputs": [],
   "source": [
    "test_batch = iter(val_dataset).next()"
   ]
  },
  {
   "cell_type": "code",
   "execution_count": 22,
   "metadata": {},
   "outputs": [],
   "source": [
    "result = model.predict(test_batch[0][0][None, ...])"
   ]
  },
  {
   "cell_type": "code",
   "execution_count": 23,
   "metadata": {},
   "outputs": [
    {
     "data": {
      "text/plain": [
       "2"
      ]
     },
     "execution_count": 23,
     "metadata": {},
     "output_type": "execute_result"
    }
   ],
   "source": [
    "np.argmax(result)"
   ]
  },
  {
   "cell_type": "code",
   "execution_count": 24,
   "metadata": {},
   "outputs": [
    {
     "data": {
      "text/plain": [
       "'running'"
      ]
     },
     "execution_count": 24,
     "metadata": {},
     "output_type": "execute_result"
    }
   ],
   "source": [
    "classes[2]"
   ]
  },
  {
   "cell_type": "code",
   "execution_count": 32,
   "metadata": {},
   "outputs": [
    {
     "data": {
      "text/plain": [
       "<matplotlib.image.AxesImage at 0x7fd330085a30>"
      ]
     },
     "execution_count": 32,
     "metadata": {},
     "output_type": "execute_result"
    },
    {
     "data": {
      "image/png": "[encoded data removed]",
      "text/plain": [
       "<Figure size 432x288 with 1 Axes>"
      ]
     },
     "metadata": {
      "needs_background": "light"
     },
     "output_type": "display_data"
    }
   ],
   "source": [
    "plt.imshow(test_batch[0][0][50])"
   ]
  },
  {
   "cell_type": "code",
   "execution_count": 28,
   "metadata": {},
   "outputs": [],
   "source": [
    "# Похоже на правду. Я бы конечно это назвал jogging, ну да ладно"
   ]
  },
  {
   "cell_type": "code",
   "execution_count": 50,
   "metadata": {},
   "outputs": [],
   "source": [
    "# Еще поучим. Может скор станет получше"
   ]
  },
  {
   "cell_type": "code",
   "execution_count": null,
   "metadata": {},
   "outputs": [
    {
     "name": "stdout",
     "output_type": "stream",
     "text": [
      "Epoch 1/30\n",
      "97/97 [==============================] - 141s 1s/step - loss: 0.3123 - val_loss: 0.6709\n",
      "Epoch 2/30\n",
      "35/97 [=========>....................] - ETA: 1:29 - loss: 0.2960"
     ]
    }
   ],
   "source": [
    "%%time\n",
    "hist2 = model.fit(train_dataset, epochs=30, validation_data=val_dataset)\n",
    "\n",
    "plt.figure(figsize=(10, 10))\n",
    "plt.plot(range(len(hist.history['loss'])), hist.history['loss'])\n",
    "plt.plot(range(len(hist.history['loss'])), hist.history['val_loss'])\n",
    "plt.draw()"
   ]
  },
  {
   "cell_type": "code",
   "execution_count": null,
   "metadata": {},
   "outputs": [],
   "source": []
  }
 ],
 "metadata": {
  "kernelspec": {
   "display_name": "Python 3",
   "language": "python",
   "name": "python3"
  },
  "language_info": {
   "codemirror_mode": {
    "name": "ipython",
    "version": 3
   },
   "file_extension": ".py",
   "mimetype": "text/x-python",
   "name": "python",
   "nbconvert_exporter": "python",
   "pygments_lexer": "ipython3",
   "version": "3.8.5"
  }
 },
 "nbformat": 4,
 "nbformat_minor": 4
}
